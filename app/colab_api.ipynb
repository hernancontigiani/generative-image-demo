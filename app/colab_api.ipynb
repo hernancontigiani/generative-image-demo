{
  "cells": [
    {
      "cell_type": "markdown",
      "metadata": {
        "id": "-S4mqlcg0dnw"
      },
      "source": [
        "## Introduction"
      ]
    },
    {
      "cell_type": "markdown",
      "source": [
        "## Download repo"
      ],
      "metadata": {
        "id": "cnxJHWE5Cjbm"
      }
    },
    {
      "cell_type": "code",
      "source": [
        "# Move to root folder\n",
        "os.chdir(\"/content\")"
      ],
      "metadata": {
        "id": "EKNQGs6sDo_V"
      },
      "execution_count": 32,
      "outputs": []
    },
    {
      "cell_type": "code",
      "source": [
        "# Delete repository folder if already exists\n",
        "!rm -rf generative-image-demo"
      ],
      "metadata": {
        "id": "WBNU_WcPDsE6"
      },
      "execution_count": 34,
      "outputs": []
    },
    {
      "cell_type": "code",
      "source": [
        "!git clone https://github.com/hernancontigiani/generative-image-demo"
      ],
      "metadata": {
        "colab": {
          "base_uri": "https://localhost:8080/"
        },
        "id": "JTHoKnoGChvM",
        "outputId": "b1895a6c-647d-4472-cfe2-a307ea2f018c"
      },
      "execution_count": 35,
      "outputs": [
        {
          "output_type": "stream",
          "name": "stdout",
          "text": [
            "Cloning into 'generative-image-demo'...\n",
            "remote: Enumerating objects: 14, done.\u001b[K\n",
            "remote: Counting objects: 100% (14/14), done.\u001b[K\n",
            "remote: Compressing objects: 100% (12/12), done.\u001b[K\n",
            "remote: Total 14 (delta 1), reused 10 (delta 0), pack-reused 0\u001b[K\n",
            "Unpacking objects: 100% (14/14), 3.06 KiB | 1.53 MiB/s, done.\n"
          ]
        }
      ]
    },
    {
      "cell_type": "code",
      "source": [
        "import os\n",
        "os.chdir(\"./generative-image-demo/ai\")"
      ],
      "metadata": {
        "id": "JeIepZVZCsdl"
      },
      "execution_count": 36,
      "outputs": []
    },
    {
      "cell_type": "markdown",
      "metadata": {
        "id": "p7fHGpv0ze3L"
      },
      "source": [
        "## Setup"
      ]
    },
    {
      "cell_type": "code",
      "source": [
        "!pip install -r requirements.txt --quiet"
      ],
      "metadata": {
        "id": "UR84BH88C4C0"
      },
      "execution_count": 37,
      "outputs": []
    },
    {
      "cell_type": "code",
      "source": [
        "!./download_models.sh"
      ],
      "metadata": {
        "colab": {
          "base_uri": "https://localhost:8080/"
        },
        "id": "jMsE-v-BD7y9",
        "outputId": "9af9695c-2e3a-49f3-f8ed-39f1e3f3356b"
      },
      "execution_count": 39,
      "outputs": [
        {
          "output_type": "stream",
          "name": "stdout",
          "text": [
            "Download decoder\n",
            "  % Total    % Received % Xferd  Average Speed   Time    Time     Time  Current\n",
            "                                 Dload  Upload   Total   Spent    Left  Speed\n",
            "  0     0    0     0    0     0      0      0 --:--:-- --:--:-- --:--:--     0\n",
            "  0     0    0     0    0     0      0      0 --:--:-- --:--:-- --:--:--     0\n",
            "100  175M  100  175M    0     0   100M      0  0:00:01  0:00:01 --:--:--  245M\n",
            "Archive:  decoder.zip\n",
            "   creating: decoder/\n",
            "   creating: decoder/1/\n",
            " extracting: decoder/1/fingerprint.pb  \n",
            "   creating: decoder/1/assets/\n",
            "   creating: decoder/1/variables/\n",
            "  inflating: decoder/1/variables/variables.data-00000-of-00001  \n",
            "  inflating: decoder/1/variables/variables.index  \n",
            "  inflating: decoder/1/saved_model.pb  \n",
            "Download diffusion_model\n",
            "  % Total    % Received % Xferd  Average Speed   Time    Time     Time  Current\n",
            "                                 Dload  Upload   Total   Spent    Left  Speed\n",
            "  0     0    0     0    0     0      0      0 --:--:-- --:--:-- --:--:--     0\n",
            "100 3033M  100 3033M    0     0   257M      0  0:00:11  0:00:11 --:--:--  287M\n",
            "Archive:  diffusion_model.zip\n",
            "   creating: diffusion_model/\n",
            "   creating: diffusion_model/1/\n",
            " extracting: diffusion_model/1/fingerprint.pb  \n",
            "   creating: diffusion_model/1/assets/\n",
            "   creating: diffusion_model/1/variables/\n",
            "  inflating: diffusion_model/1/variables/variables.data-00000-of-00001  \n",
            "  inflating: diffusion_model/1/variables/variables.index  \n",
            "  inflating: diffusion_model/1/saved_model.pb  \n",
            "Download text_encoder\n",
            "  % Total    % Received % Xferd  Average Speed   Time    Time     Time  Current\n",
            "                                 Dload  Upload   Total   Spent    Left  Speed\n",
            "  0     0    0     0    0     0      0      0 --:--:-- --:--:-- --:--:--     0\n",
            "100  325M  100  325M    0     0   159M      0  0:00:02  0:00:02 --:--:--  310M\n",
            "Archive:  text_encoder.zip\n",
            "   creating: text_encoder/\n",
            "   creating: text_encoder/1/\n",
            " extracting: text_encoder/1/fingerprint.pb  \n",
            "   creating: text_encoder/1/assets/\n",
            "   creating: text_encoder/1/variables/\n",
            "  inflating: text_encoder/1/variables/variables.data-00000-of-00001  \n",
            "  inflating: text_encoder/1/variables/variables.index  \n",
            "  inflating: text_encoder/1/saved_model.pb  \n"
          ]
        }
      ]
    },
    {
      "cell_type": "markdown",
      "source": [
        "## Run model"
      ],
      "metadata": {
        "id": "48gLbl6yESqI"
      }
    },
    {
      "cell_type": "code",
      "source": [
        "# Make available port 5000 of colab from outside using a proxyport\n",
        "from google.colab.output import eval_js\n",
        "print(eval_js(\"google.colab.kernel.proxyPort(5000)\"))"
      ],
      "metadata": {
        "id": "549Jqmp_rPMO",
        "colab": {
          "base_uri": "https://localhost:8080/",
          "height": 34
        },
        "outputId": "8c44adc2-5e8c-49f7-d341-d3705cd2b40d"
      },
      "execution_count": 40,
      "outputs": [
        {
          "output_type": "stream",
          "name": "stdout",
          "text": [
            "https://y7eq5yqme2i-496ff2e9c6d22116-5000-colab.googleusercontent.com/\n"
          ]
        }
      ]
    },
    {
      "cell_type": "code",
      "source": [
        "# Launch app\n",
        "!python app.py"
      ],
      "metadata": {
        "id": "zBJy8nAirP--",
        "colab": {
          "base_uri": "https://localhost:8080/"
        },
        "outputId": "85bfddbd-3258-4607-d99d-b9fe27279541"
      },
      "execution_count": 41,
      "outputs": [
        {
          "output_type": "stream",
          "name": "stdout",
          "text": [
            "2023-07-01 20:07:36.254366: I tensorflow/core/util/port.cc:110] oneDNN custom operations are on. You may see slightly different numerical results due to floating-point round-off errors from different computation orders. To turn them off, set the environment variable `TF_ENABLE_ONEDNN_OPTS=0`.\n",
            "2023-07-01 20:07:36.307952: I tensorflow/core/platform/cpu_feature_guard.cc:182] This TensorFlow binary is optimized to use available CPU instructions in performance-critical operations.\n",
            "To enable the following instructions: AVX2 AVX512F AVX512_VNNI FMA, in other operations, rebuild TensorFlow with the appropriate compiler flags.\n",
            "2023-07-01 20:07:37.126647: W tensorflow/compiler/tf2tensorrt/utils/py_utils.cc:38] TF-TRT Warning: Could not find TensorRT\n",
            "2023-07-01 20:07:41.986191: W tensorflow/core/common_runtime/gpu/gpu_bfc_allocator.cc:47] Overriding orig_value setting because the TF_FORCE_GPU_ALLOW_GROWTH environment variable is set. Original config value was 0.\n",
            "2023-07-01 20:07:41.986254: I tensorflow/core/common_runtime/gpu/gpu_device.cc:1635] Created device /job:localhost/replica:0/task:0/device:GPU:0 with 38270 MB memory:  -> device: 0, name: NVIDIA A100-SXM4-40GB, pci bus id: 0000:00:04.0, compute capability: 8.0\n",
            "2023-07-01 20:08:00.601081: I tensorflow/core/common_runtime/executor.cc:1197] [/device:CPU:0] (DEBUG INFO) Executor start aborting (this does not indicate an error and you can ignore this message): INVALID_ARGUMENT: You must feed a value for placeholder tensor 'batch_size' with dtype int32\n",
            "\t [[{{node batch_size}}]]\n",
            "Base de datos generada\n",
            " * Serving Flask app 'app'\n",
            " * Debug mode: on\n",
            "\u001b[31m\u001b[1mWARNING: This is a development server. Do not use it in a production deployment. Use a production WSGI server instead.\u001b[0m\n",
            " * Running on http://127.0.0.1:5000\n",
            "\u001b[33mPress CTRL+C to quit\u001b[0m\n",
            " * Restarting with stat\n",
            "2023-07-01 20:08:22.131183: W tensorflow/compiler/tf2tensorrt/utils/py_utils.cc:38] TF-TRT Warning: Could not find TensorRT\n",
            "2023-07-01 20:08:26.964759: W tensorflow/core/common_runtime/gpu/gpu_bfc_allocator.cc:47] Overriding orig_value setting because the TF_FORCE_GPU_ALLOW_GROWTH environment variable is set. Original config value was 0.\n",
            "Base de datos generada\n",
            " * Debugger is active!\n",
            " * Debugger PIN: 109-556-706\n",
            "127.0.0.1 - - [01/Jul/2023 20:09:33] \"GET /predict/pokemon%20with%20red%20ayes/render HTTP/1.1\" 200 -\n",
            "127.0.0.1 - - [01/Jul/2023 20:09:36] \"\u001b[33mGET /favicon.ico HTTP/1.1\u001b[0m\" 404 -\n"
          ]
        }
      ]
    }
  ],
  "metadata": {
    "accelerator": "GPU",
    "colab": {
      "machine_shape": "hm",
      "provenance": [],
      "gpuClass": "premium"
    },
    "gpuClass": "premium",
    "kernelspec": {
      "display_name": "Python 3 (ipykernel)",
      "language": "python",
      "name": "python3"
    },
    "language_info": {
      "codemirror_mode": {
        "name": "ipython",
        "version": 3
      },
      "file_extension": ".py",
      "mimetype": "text/x-python",
      "name": "python",
      "nbconvert_exporter": "python",
      "pygments_lexer": "ipython3",
      "version": "3.8.2"
    }
  },
  "nbformat": 4,
  "nbformat_minor": 0
}