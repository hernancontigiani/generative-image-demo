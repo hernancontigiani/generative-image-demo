{
  "cells": [
    {
      "cell_type": "markdown",
      "source": [
        "<img src=\"https://github.com/hernancontigiani/generative-image-demo/blob/main/banner.jpg?raw=true\" width=\"800\" align=\"center\">\n",
        "\n",
        "**Author:** Hernán Contigiani<br>\n",
        "[Github](https://github.com/hernancontigiani/)<br>\n",
        "[Linkedin](https://www.linkedin.com/in/hern%C3%A1n-contigiani-41260679/?locale=en_US)"
      ],
      "metadata": {
        "id": "3O9CoW5ckC2b"
      }
    },
    {
      "cell_type": "markdown",
      "metadata": {
        "id": "-S4mqlcg0dnw"
      },
      "source": [
        "## Introduction\n",
        "This notebook has to be executed on Google Colab (with a good GPU, like A100). This notebook deploy the backend as workaround for not having a good GPU in my PC."
      ]
    },
    {
      "cell_type": "markdown",
      "source": [
        "## Download repo"
      ],
      "metadata": {
        "id": "cnxJHWE5Cjbm"
      }
    },
    {
      "cell_type": "code",
      "source": [
        "# Move to root folder\n",
        "import os\n",
        "os.chdir(\"/content\")"
      ],
      "metadata": {
        "id": "EKNQGs6sDo_V"
      },
      "execution_count": 1,
      "outputs": []
    },
    {
      "cell_type": "code",
      "source": [
        "# Delete repository folder if already exists\n",
        "!rm -rf generative-image-demo"
      ],
      "metadata": {
        "id": "WBNU_WcPDsE6"
      },
      "execution_count": 2,
      "outputs": []
    },
    {
      "cell_type": "code",
      "source": [
        "!git clone https://github.com/hernancontigiani/generative-image-demo"
      ],
      "metadata": {
        "colab": {
          "base_uri": "https://localhost:8080/"
        },
        "id": "JTHoKnoGChvM",
        "outputId": "d1a2e526-137a-4029-af13-7ac774dfcf7d"
      },
      "execution_count": 3,
      "outputs": [
        {
          "output_type": "stream",
          "name": "stdout",
          "text": [
            "Cloning into 'generative-image-demo'...\n",
            "remote: Enumerating objects: 182, done.\u001b[K\n",
            "remote: Counting objects: 100% (182/182), done.\u001b[K\n",
            "remote: Compressing objects: 100% (103/103), done.\u001b[K\n",
            "remote: Total 182 (delta 63), reused 176 (delta 60), pack-reused 0\u001b[K\n",
            "Receiving objects: 100% (182/182), 6.34 MiB | 3.83 MiB/s, done.\n",
            "Resolving deltas: 100% (63/63), done.\n"
          ]
        }
      ]
    },
    {
      "cell_type": "code",
      "source": [
        "import os\n",
        "os.chdir(\"./generative-image-demo/app\")"
      ],
      "metadata": {
        "id": "JeIepZVZCsdl"
      },
      "execution_count": 4,
      "outputs": []
    },
    {
      "cell_type": "markdown",
      "metadata": {
        "id": "p7fHGpv0ze3L"
      },
      "source": [
        "## Setup"
      ]
    },
    {
      "cell_type": "code",
      "source": [
        "!pip install -r requirements.txt --quiet"
      ],
      "metadata": {
        "id": "UR84BH88C4C0"
      },
      "execution_count": 5,
      "outputs": []
    },
    {
      "cell_type": "code",
      "source": [
        "!./download_models.sh"
      ],
      "metadata": {
        "colab": {
          "base_uri": "https://localhost:8080/"
        },
        "id": "jMsE-v-BD7y9",
        "outputId": "8a1a7c20-a940-4bd4-cb75-6a45f93f94b0"
      },
      "execution_count": 6,
      "outputs": [
        {
          "output_type": "stream",
          "name": "stdout",
          "text": [
            "Download decoder\n",
            "  % Total    % Received % Xferd  Average Speed   Time    Time     Time  Current\n",
            "                                 Dload  Upload   Total   Spent    Left  Speed\n",
            "  0     0    0     0    0     0      0      0 --:--:-- --:--:-- --:--:--     0\n",
            "  0     0    0     0    0     0      0      0 --:--:-- --:--:-- --:--:--     0\n",
            "100  175M  100  175M    0     0  90.8M      0  0:00:01  0:00:01 --:--:--  147M\n",
            "Archive:  decoder.zip\n",
            "   creating: decoder/\n",
            "   creating: decoder/1/\n",
            " extracting: decoder/1/fingerprint.pb  \n",
            "   creating: decoder/1/assets/\n",
            "   creating: decoder/1/variables/\n",
            "  inflating: decoder/1/variables/variables.data-00000-of-00001  \n",
            "  inflating: decoder/1/variables/variables.index  \n",
            "  inflating: decoder/1/saved_model.pb  \n",
            "Download diffusion_model\n",
            "  % Total    % Received % Xferd  Average Speed   Time    Time     Time  Current\n",
            "                                 Dload  Upload   Total   Spent    Left  Speed\n",
            "  0     0    0     0    0     0      0      0 --:--:-- --:--:-- --:--:--     0\n",
            "100 3033M  100 3033M    0     0   138M      0  0:00:21  0:00:21 --:--:--  152M\n",
            "Archive:  diffusion_model.zip\n",
            "   creating: diffusion_model/\n",
            "   creating: diffusion_model/1/\n",
            " extracting: diffusion_model/1/fingerprint.pb  \n",
            "   creating: diffusion_model/1/assets/\n",
            "   creating: diffusion_model/1/variables/\n",
            "  inflating: diffusion_model/1/variables/variables.data-00000-of-00001  \n",
            "  inflating: diffusion_model/1/variables/variables.index  \n",
            "  inflating: diffusion_model/1/saved_model.pb  \n",
            "Download text_encoder\n",
            "  % Total    % Received % Xferd  Average Speed   Time    Time     Time  Current\n",
            "                                 Dload  Upload   Total   Spent    Left  Speed\n",
            "  0     0    0     0    0     0      0      0 --:--:-- --:--:-- --:--:--     0\n",
            "100  325M  100  325M    0     0   122M      0  0:00:02  0:00:02 --:--:--  177M\n",
            "Archive:  text_encoder.zip\n",
            "   creating: text_encoder/\n",
            "   creating: text_encoder/1/\n",
            " extracting: text_encoder/1/fingerprint.pb  \n",
            "   creating: text_encoder/1/assets/\n",
            "   creating: text_encoder/1/variables/\n",
            "  inflating: text_encoder/1/variables/variables.data-00000-of-00001  \n",
            "  inflating: text_encoder/1/variables/variables.index  \n",
            "  inflating: text_encoder/1/saved_model.pb  \n"
          ]
        }
      ]
    },
    {
      "cell_type": "markdown",
      "source": [
        "## Run APP"
      ],
      "metadata": {
        "id": "48gLbl6yESqI"
      }
    },
    {
      "cell_type": "code",
      "source": [
        "import os\n",
        "os.chdir(\"./api\")"
      ],
      "metadata": {
        "id": "eS-QPsJ_eBop"
      },
      "execution_count": 7,
      "outputs": []
    },
    {
      "cell_type": "code",
      "source": [
        "# Make available port 5000 of colab from outside using a proxyport\n",
        "from google.colab.output import eval_js\n",
        "print(eval_js(\"google.colab.kernel.proxyPort(5000)\"))"
      ],
      "metadata": {
        "id": "549Jqmp_rPMO",
        "colab": {
          "base_uri": "https://localhost:8080/",
          "height": 34
        },
        "outputId": "4efe8a7d-8425-4534-a82b-91a5c12fc566"
      },
      "execution_count": 8,
      "outputs": [
        {
          "output_type": "stream",
          "name": "stdout",
          "text": [
            "https://5elfdu6glpm-496ff2e9c6d22116-5000-colab.googleusercontent.com/\n"
          ]
        }
      ]
    },
    {
      "cell_type": "code",
      "source": [
        "# Launch app\n",
        "!python main.py"
      ],
      "metadata": {
        "colab": {
          "base_uri": "https://localhost:8080/"
        },
        "id": "LJVrm1MtLGy0",
        "outputId": "e1d9bfbe-3efc-42c7-9f6b-809c051db694"
      },
      "execution_count": 9,
      "outputs": [
        {
          "output_type": "stream",
          "name": "stdout",
          "text": [
            "2023-07-04 01:44:12.561087: I tensorflow/core/util/port.cc:110] oneDNN custom operations are on. You may see slightly different numerical results due to floating-point round-off errors from different computation orders. To turn them off, set the environment variable `TF_ENABLE_ONEDNN_OPTS=0`.\n",
            "2023-07-04 01:44:12.615255: I tensorflow/core/platform/cpu_feature_guard.cc:182] This TensorFlow binary is optimized to use available CPU instructions in performance-critical operations.\n",
            "To enable the following instructions: AVX2 AVX512F AVX512_VNNI FMA, in other operations, rebuild TensorFlow with the appropriate compiler flags.\n",
            "2023-07-04 01:44:13.543315: W tensorflow/compiler/tf2tensorrt/utils/py_utils.cc:38] TF-TRT Warning: Could not find TensorRT\n",
            "2023-07-04 01:44:20.030264: W tensorflow/core/common_runtime/gpu/gpu_bfc_allocator.cc:47] Overriding orig_value setting because the TF_FORCE_GPU_ALLOW_GROWTH environment variable is set. Original config value was 0.\n",
            "2023-07-04 01:44:20.030319: I tensorflow/core/common_runtime/gpu/gpu_device.cc:1635] Created device /job:localhost/replica:0/task:0/device:GPU:0 with 38270 MB memory:  -> device: 0, name: NVIDIA A100-SXM4-40GB, pci bus id: 0000:00:04.0, compute capability: 8.0\n",
            "2023-07-04 01:44:38.982530: I tensorflow/core/common_runtime/executor.cc:1197] [/device:CPU:0] (DEBUG INFO) Executor start aborting (this does not indicate an error and you can ignore this message): INVALID_ARGUMENT: You must feed a value for placeholder tensor 'batch_size' with dtype int32\n",
            "\t [[{{node batch_size}}]]\n",
            "\u001b[32mINFO\u001b[0m:     Will watch for changes in these directories: ['/content/generative-image-demo/app/api']\n",
            "\u001b[32mINFO\u001b[0m:     Uvicorn running on \u001b[1mhttp://0.0.0.0:5000\u001b[0m (Press CTRL+C to quit)\n",
            "\u001b[32mINFO\u001b[0m:     Started reloader process [\u001b[36m\u001b[1m4870\u001b[0m] using \u001b[36m\u001b[1mStatReload\u001b[0m\n",
            "2023-07-04 01:45:01.100165: W tensorflow/compiler/tf2tensorrt/utils/py_utils.cc:38] TF-TRT Warning: Could not find TensorRT\n",
            "2023-07-04 01:45:05.852683: W tensorflow/core/common_runtime/gpu/gpu_bfc_allocator.cc:47] Overriding orig_value setting because the TF_FORCE_GPU_ALLOW_GROWTH environment variable is set. Original config value was 0.\n",
            "\u001b[32mINFO\u001b[0m:     Started server process [\u001b[36m5157\u001b[0m]\n",
            "\u001b[32mINFO\u001b[0m:     Waiting for application startup.\n",
            "\u001b[32mINFO\u001b[0m:     Application startup complete.\n",
            "\u001b[32mINFO\u001b[0m:     127.0.0.1:42060 - \"\u001b[1mGET / HTTP/1.1\u001b[0m\" \u001b[32m200 OK\u001b[0m\n",
            "\u001b[32mINFO\u001b[0m:     127.0.0.1:42066 - \"\u001b[1mGET /css/style.css HTTP/1.1\u001b[0m\" \u001b[32m200 OK\u001b[0m\n",
            "\u001b[32mINFO\u001b[0m:     127.0.0.1:42076 - \"\u001b[1mGET /js/app.js HTTP/1.1\u001b[0m\" \u001b[32m200 OK\u001b[0m\n",
            "\u001b[32mINFO\u001b[0m:     127.0.0.1:42084 - \"\u001b[1mGET /favicon.ico HTTP/1.1\u001b[0m\" \u001b[31m404 Not Found\u001b[0m\n",
            "\u001b[32mINFO\u001b[0m:     127.0.0.1:42106 - \"\u001b[1mGET /images/loading.jpg HTTP/1.1\u001b[0m\" \u001b[32m200 OK\u001b[0m\n",
            "\u001b[32mINFO\u001b[0m:     127.0.0.1:42094 - \"\u001b[1mGET /api/v1.0/predict?caption=A+dogcat+pokemon HTTP/1.1\u001b[0m\" \u001b[32m200 OK\u001b[0m\n",
            "\u001b[32mINFO\u001b[0m:     Shutting down\n",
            "\u001b[32mINFO\u001b[0m:     Waiting for application shutdown.\n",
            "\u001b[32mINFO\u001b[0m:     Application shutdown complete.\n",
            "\u001b[32mINFO\u001b[0m:     Finished server process [\u001b[36m5157\u001b[0m]\n",
            "\u001b[32mINFO\u001b[0m:     Stopping reloader process [\u001b[36m\u001b[1m4870\u001b[0m]\n"
          ]
        }
      ]
    }
  ],
  "metadata": {
    "accelerator": "GPU",
    "colab": {
      "machine_shape": "hm",
      "provenance": [],
      "gpuClass": "premium",
      "gpuType": "A100"
    },
    "gpuClass": "premium",
    "kernelspec": {
      "display_name": "Python 3",
      "name": "python3"
    },
    "language_info": {
      "codemirror_mode": {
        "name": "ipython",
        "version": 3
      },
      "file_extension": ".py",
      "mimetype": "text/x-python",
      "name": "python",
      "nbconvert_exporter": "python",
      "pygments_lexer": "ipython3",
      "version": "3.8.2"
    }
  },
  "nbformat": 4,
  "nbformat_minor": 0
}